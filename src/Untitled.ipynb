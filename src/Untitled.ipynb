{
 "cells": [
  {
   "cell_type": "code",
   "execution_count": 37,
   "id": "880a1fea",
   "metadata": {},
   "outputs": [],
   "source": [
    "import pickle\n",
    "import os\n",
    "import pandas as pd\n",
    "import numpy as np\n",
    "from tqdm import tqdm\n",
    "import matplotlib.pyplot as plt\n",
    "workdir = os.path.dirname(os.getcwd())\n",
    "srcdir = os.getcwd()\n",
    "datadir = workdir + '/data/'\n",
    "outputdir = workdir + '/output/'\n",
    "np.set_printoptions(suppress=True)\n",
    "from PF_no_para_update import *\n",
    "N = 10_000\n",
    "seed = 0\n",
    "obs_series = pd.read_csv(datadir + 'data.csv', delimiter=',',header = None)\n",
    "obs_series = np.array(obs_series)\n",
    "T = obs_series.shape[1]\n",
    "\n",
    "obs_series = pd.read_csv(datadir + 'data.csv', delimiter=',',header = None)\n",
    "obs_series = np.array(obs_series)\n",
    "Z = pd.read_csv(datadir + 'Z.csv', delimiter=',',header = None)\n",
    "Z = np.array(Z)\n",
    "S = pd.read_csv(datadir + 'S.csv', delimiter=',',header = None)\n",
    "S = np.array(S)\n",
    "\n",
    "case = 'actual data, seed = ' + str(seed) + ', T = ' + str(T) + ', N = ' + str(N)\n",
    "try: \n",
    "    casedir = outputdir + case  + '/'\n",
    "    os.mkdir(casedir)\n",
    "except:\n",
    "    casedir = outputdir + case  + '/'"
   ]
  },
  {
   "cell_type": "code",
   "execution_count": 10,
   "id": "1112aad9",
   "metadata": {},
   "outputs": [
    {
     "name": "stderr",
     "output_type": "stream",
     "text": [
      "100%|███████████████████████████████████████████████████████████████████████████████████████████████████████████████████████████████████████████████████████████████████████████████████████████████████████████████████████████████████████| 283/283 [00:03<00:00, 88.27it/s]\n"
     ]
    }
   ],
   "source": [
    "X_t_particle = []\n",
    "for t in tqdm(range(T)):\n",
    "    with open(casedir + 'X_'+str(t)+'.pkl', 'rb') as f:\n",
    "        X_t_particle.append(pickle.load(f))"
   ]
  },
  {
   "cell_type": "code",
   "execution_count": 42,
   "id": "a2c5c958",
   "metadata": {},
   "outputs": [
    {
     "name": "stderr",
     "output_type": "stream",
     "text": [
      "\n",
      "  0%|                                                                                                                                                                                                                                                 | 0/282 [00:00<?, ?it/s]\u001b[A\n",
      "100%|█████████████████████████████████████████████████████████████████████████████████████████████████████████████████████████████████████████████████████████████████████████████████████████████████████████████████████████████████████| 282/282 [00:00<00:00, 2001.67it/s]\u001b[A\n"
     ]
    }
   ],
   "source": [
    "w_t = []\n",
    "for t in tqdm(range(1,T)):\n",
    "    with open(casedir + 'w_'+str(t)+'.pkl', 'rb') as f:\n",
    "        w_t.append(pickle.load(f))"
   ]
  },
  {
   "cell_type": "code",
   "execution_count": null,
   "id": "11d4fa30",
   "metadata": {},
   "outputs": [],
   "source": []
  },
  {
   "cell_type": "code",
   "execution_count": 18,
   "id": "fd0aa1f3",
   "metadata": {},
   "outputs": [
    {
     "name": "stderr",
     "output_type": "stream",
     "text": [
      "100%|███████████████████████████████████████████████████████████████████████████████████████████████████████████████████████████████████████████████████████████████████████████████████████████████████████████████████████████████| 10000/10000 [00:00<00:00, 356304.02it/s]\n"
     ]
    }
   ],
   "source": [
    "Z1_282 = []\n",
    "Z2_282 = []\n",
    "S1_282 = []\n",
    "S2_282 = []\n",
    "S3_282 = []\n",
    "w_282 = []\n",
    "for n in tqdm(range(N)):\n",
    "    Z1_282.append(X_t_particle[-1][n][0][0])\n",
    "    Z2_282.append(X_t_particle[-1][n][1][0])\n",
    "    S1_282.append(X_t_particle[-1][n][2][0])\n",
    "    S2_282.append(X_t_particle[-1][n][3][0])\n",
    "    S3_282.append(X_t_particle[-1][n][4][0])"
   ]
  },
  {
   "cell_type": "code",
   "execution_count": 33,
   "id": "2d6deac6",
   "metadata": {},
   "outputs": [
    {
     "data": {
      "text/plain": [
       "<matplotlib.collections.PathCollection at 0x7fc43846aa00>"
      ]
     },
     "execution_count": 33,
     "metadata": {},
     "output_type": "execute_result"
    },
    {
     "data": {
      "image/png": "[encoded data removed]",
      "text/plain": [
       "<Figure size 432x288 with 1 Axes>"
      ]
     },
     "metadata": {},
     "output_type": "display_data"
    }
   ],
   "source": [
    "plt.scatter(Z1_282,np.linspace(1,N,N))"
   ]
  },
  {
   "cell_type": "code",
   "execution_count": 53,
   "id": "495282d0",
   "metadata": {},
   "outputs": [
    {
     "data": {
      "text/plain": [
       "-2.6187102872792085"
      ]
     },
     "execution_count": 53,
     "metadata": {},
     "output_type": "execute_result"
    }
   ],
   "source": [
    "np.median(S2_282)"
   ]
  },
  {
   "cell_type": "code",
   "execution_count": 32,
   "id": "6590dcac",
   "metadata": {},
   "outputs": [
    {
     "data": {
      "text/plain": [
       "array([    1.,     2.,     3., ...,  9998.,  9999., 10000.])"
      ]
     },
     "execution_count": 32,
     "metadata": {},
     "output_type": "execute_result"
    }
   ],
   "source": [
    "np.linspace(1,N,N)"
   ]
  },
  {
   "cell_type": "code",
   "execution_count": 57,
   "id": "fde7b426",
   "metadata": {},
   "outputs": [
    {
     "data": {
      "text/plain": [
       "array([[  0.        ,  -4.29187449,   3.11656002,   1.80742251,\n",
       "          0.33701145,  -4.09625477,  -3.5177743 ,   1.41289797,\n",
       "          4.87503197,   0.64445103,  -2.18663708,  -5.34879594,\n",
       "         -9.28315774,  -5.38666532,  -7.83663196,  -9.60095135,\n",
       "         -8.16022041,  -8.75319775,  -8.71345491,  -4.1177011 ,\n",
       "         -6.72352275,  -7.24354182,  -1.99267008,  -7.37938842,\n",
       "         -6.0013013 , -13.48997603, -11.22059949, -10.90157181,\n",
       "         -9.01821575,  -6.60613903,  -1.14985361,  -3.58978988,\n",
       "         -4.60622559,  -1.3534749 ,   0.39583916,   1.03378498,\n",
       "         -0.13446755,   1.13961678,   2.42783901,  -4.27803431,\n",
       "         -3.9486987 ,   4.31457817,  10.39372336,  12.8077323 ,\n",
       "          6.60672653,   3.45193095,   6.31418199,   5.2757803 ,\n",
       "          6.86606357,   8.65297826,   6.54721334,  14.64041059,\n",
       "         12.63059056,   6.87945659,   7.18670757,   5.76922418,\n",
       "         13.95510067,  16.16553817,  14.72366033,  12.10206284,\n",
       "          5.80162154,  10.39436291,  11.60597101,  10.15292309,\n",
       "         16.75626562,   8.57088569,  10.95760381,  13.15786591,\n",
       "          6.51427265,   2.30062305,   0.76456275,  -1.65798928,\n",
       "          1.00125836,   1.41753884,   7.51100712,  16.557381  ,\n",
       "         12.10004888,  11.69736471,  10.04576995,   6.37817488,\n",
       "          3.74750314,  -2.21372887,   0.48180054,  -4.78928721,\n",
       "        -15.48269849, -18.11278616, -14.58340299, -19.22778395,\n",
       "        -16.76881277, -14.04206171,  -9.29383666,  -4.82481774,\n",
       "        -10.10584006,  -3.49588029,  -2.76459191,  -1.6436337 ,\n",
       "         -5.9451504 ,  -5.57793328,  -5.35817207,  -1.68327225,\n",
       "          6.74818825,   2.55105903,   2.34936383,  -0.28479068,\n",
       "          5.29880598,   8.06726388,   4.35814901,   0.73325497,\n",
       "          3.14426028,   7.60057852,   8.59318606,   7.3066915 ,\n",
       "         -1.57278255,  -9.87215998, -10.6538611 ,  -9.55427921,\n",
       "         -6.75419489,  -2.39870367,  -4.96421101,  -5.228674  ,\n",
       "         -6.93578549,  -4.83222948,  -2.28871208,  -0.7627439 ,\n",
       "          2.72665538,   4.71152126,  -2.78333343,  -2.36355969,\n",
       "          0.34473841,  -0.3915713 ,  -6.05863586,  -3.54233154,\n",
       "        -10.6807423 ,  -1.17024786,   0.41570419,   0.71999139,\n",
       "          2.45445606,  10.43443254,  -0.26302272,   4.22664399,\n",
       "          2.88891627,  -0.39985382,  -2.27649684,  -3.76541627,\n",
       "         -0.02542841,  -0.22169588,   3.03585115,  -4.00397391,\n",
       "         -4.9287092 ,  -0.43231259,  -2.51801741,  -5.15578329,\n",
       "         -7.93007372,  -9.51243861,  -4.38121711,  -4.37666367,\n",
       "         -0.45511809,  -0.88469097,  -2.47197347,  -7.8340927 ,\n",
       "         -4.98902822,  -1.79184257,   3.17866505,  -0.81296161,\n",
       "         -2.39105305,  -5.46645966,  -9.35066371,  -8.18711335,\n",
       "         -8.40433343,  -7.20515446,   0.29059744,  -4.39449419,\n",
       "         -7.19043355,  -2.04268839,  -1.32491159,   1.65977577,\n",
       "          4.04013183,   0.41137937,  -0.78574793,  -2.12081307,\n",
       "         -3.60670293,   0.80925723,  -0.37505274,  -4.95747801,\n",
       "         -0.41690195,   3.75672336,  -0.09898187,  -0.6479306 ,\n",
       "         -7.13293592,  -5.99026915,  -7.23101356,   0.90412574,\n",
       "          2.30354057,   6.47718732,   1.37572418,   1.12803422,\n",
       "          1.58179295,   0.18712838,   0.3081899 ,   4.22277963,\n",
       "         -0.49135545,  -2.51480211,  -0.85885432,   5.10999054,\n",
       "          7.73989917,   3.30421178,   6.23796534,  -1.68151061,\n",
       "          2.02994365,   1.41922113,  -3.04554376,  -3.65600607,\n",
       "         -5.66378048,  -6.7264106 , -10.44238698,  -6.46605536,\n",
       "         -7.85533893,  -3.45380834,  -4.23988171,  -3.65440782,\n",
       "         -3.71480752,  -7.26288778,  -7.8528052 ,  -5.8008891 ,\n",
       "         -3.57973721,  -1.94313572,  -1.14875703,  -5.01792488,\n",
       "          3.16303675,   5.35648141,   1.11334551,   1.53950342,\n",
       "          5.45976298,   3.07406626,   2.52918803,   2.3802692 ,\n",
       "          0.69179393,  -8.59701721,  -6.58500282,  -2.69667887,\n",
       "        -10.73421907,  -9.5889736 ,  -8.19795297,  -3.18128451,\n",
       "         10.42115896,   5.31982831,  -6.00560149,  -1.365892  ,\n",
       "         -1.78671002,  -1.59203565,   4.71331322,   2.48599125,\n",
       "         -1.56624488,  -2.28455423,  -6.41745214, -13.30135039,\n",
       "        -20.54899154, -15.56848232,  -9.87783087, -12.62677516,\n",
       "         -8.65286736,  -5.76605301,  -8.41416056,  -4.1262521 ,\n",
       "         -2.00994618,  -6.72724858,  -3.15232165,   0.28479024,\n",
       "         -0.11341806,   7.30367532,   4.29671318,   1.61409544,\n",
       "          6.06308244,   5.33312852,   4.31119961,   3.5733622 ,\n",
       "          3.14475578,   5.11749972,   4.00373245,   4.34550169,\n",
       "          9.89449058,   3.02409317,  -0.59836009],\n",
       "       [ -1.46644467,   1.12977822,  -1.67308706,   2.75456523,\n",
       "          0.75820018,  -0.20401341,   1.29194598,   3.44504001,\n",
       "          0.4115595 ,  -0.76770557,  -2.09771397,  -3.98519851,\n",
       "         -2.77820064,  -3.09135611,   2.31098998,   2.12824951,\n",
       "          3.26092   ,  -1.11210753,   0.57689462,   1.02498874,\n",
       "          4.28530652,   4.60051072,   7.94657009,   1.73162572,\n",
       "          3.72051841,   1.76451376,   3.40435561,   2.98987973,\n",
       "          2.45564079,   2.03668751,   1.89153033,   2.49041839,\n",
       "          1.82983635,  -0.17080555,   1.3508022 ,   3.00902218,\n",
       "          2.21177245,   4.01461097,  -1.01845039,   2.25620388,\n",
       "         -0.81381069,  -6.51828308,  -4.49388031,  -4.43115409,\n",
       "         -2.18659972,  -0.48083969,  -0.53825879,   1.8827625 ,\n",
       "          1.6260247 ,   1.7050145 ,  -6.23379062,  -3.9562281 ,\n",
       "         -3.81543398,  -4.89691949,  -5.10074798,  -1.41488176,\n",
       "         -7.11427711,   1.6002665 ,   0.30798154,   1.99330582,\n",
       "          2.24199888,   1.16896909,   1.36409762,   4.27900487,\n",
       "          6.46308506,   6.68413695,   8.18734691,   4.5696723 ,\n",
       "         -1.91961677,  -5.18632855,  -8.47037914, -10.78015238,\n",
       "        -10.22228088,  -3.62026484,  -2.86129272,  -4.21964561,\n",
       "         -4.27918877,  -1.73357909,  -5.37951441,  -9.61948789,\n",
       "         -8.92183418, -10.01470536,  -9.63456901,  -9.03590577,\n",
       "         -1.70942711,   4.49268971,   1.47986764,   3.27568346,\n",
       "          5.93342242,   5.28294692,   8.56314593,   3.92538325,\n",
       "          6.54377688,   2.59599752,   4.54785929,   3.3945812 ,\n",
       "          2.66515733,   3.3158466 ,   1.4673027 ,  -1.98572256,\n",
       "         -6.29533776,  -6.16685231,  -7.31085157,  -2.7717337 ,\n",
       "         -4.49470862,  -1.92531538,  -4.43684727,  -2.99473961,\n",
       "          0.17928449,  -0.86368715,   2.38274631,   5.9671959 ,\n",
       "         -1.34729976,  -2.60604623,  -1.40754386,  -1.92392054,\n",
       "         -5.36037338,  -5.16675966,  -6.03836573,  -6.47019562,\n",
       "         -2.6519392 ,  -3.12415115, -11.14021325,  -9.13987103,\n",
       "         -8.84427368,  -0.95522368,   1.08690092,  -4.04014794,\n",
       "         -4.07793626,  -6.35738191,  -0.07531462,  -3.41919846,\n",
       "         -0.26680235,  -4.42633303,  -0.13565778,  -6.82921535,\n",
       "         -2.44413823,   3.03214816,  -3.20026953,  -1.9226877 ,\n",
       "          3.00864503,   8.2774994 ,   7.37921206,   9.2354497 ,\n",
       "          6.78640917,   6.53576821,  10.30458968,   4.4698725 ,\n",
       "          4.4422265 ,   2.10599552,   4.74590767,   6.8004262 ,\n",
       "          7.3121859 ,   4.52475766,   5.15206129,   5.17882664,\n",
       "          2.32440097,   0.96923729,  -0.95545384,   0.29571681,\n",
       "         -3.40132865,   1.36832529,   5.91515381,   4.12279998,\n",
       "          4.36078916,   4.78198163,   3.47914142,   0.09138173,\n",
       "          0.34769604,  -1.8186025 ,  -1.1575616 ,   0.86076046,\n",
       "          2.0676378 ,   5.68945209,   9.53951829,  11.25694389,\n",
       "         12.94002635,   9.30370952,   5.97422996,  -0.87764364,\n",
       "         -3.18999679,  -9.52662426,  -4.22772158,  -4.20836279,\n",
       "         -8.08966715,  -7.43226474,  -5.13152931,  -0.23956959,\n",
       "         11.3908635 ,   4.62296341,   5.33814279,   4.40397942,\n",
       "          2.78442519,   4.27433263,   2.92394709,   7.28517401,\n",
       "         -2.01406131,  -0.37172466,   3.77108408,   1.32511376,\n",
       "          2.25227791,  -2.87567742,  -2.80014226,  -1.52173993,\n",
       "         -3.50528418,   0.57795127,  -1.66814883,   1.8734175 ,\n",
       "          1.77503001,   3.35680471,   4.56857684,   2.82273566,\n",
       "          3.49582238,   5.45822399,   6.5891945 ,  -0.71836951,\n",
       "         -1.36744241,   3.33916086,   1.5790591 ,   0.49897733,\n",
       "         -8.26709629,  -4.82924292,  -0.11536688,  -6.07138328,\n",
       "         -2.57078264,  -1.39545245,  -0.01904793,  -3.89611181,\n",
       "         -7.58526001,  -4.10748523,  -4.12653834,  -4.39963352,\n",
       "         -0.12132115,  -2.76274571,   1.84348271,  -2.86459211,\n",
       "         -7.04043197,  -6.02108603,  -0.61583321,   0.15076057,\n",
       "          2.66982302,  -1.96881285,  -1.78008635,   1.18130457,\n",
       "         -1.14892127,   0.09553264,  -3.8568772 ,  -8.04961537,\n",
       "         -8.9185937 ,  -6.46436615,  -5.46590688,  -2.89589604,\n",
       "         -4.72305676,   0.54588668,   5.24398485,   5.39370625,\n",
       "          2.91298879,   4.90058909,   3.18836252,   3.88533696,\n",
       "         -0.50473856,   2.95674292,   2.21929048,  -4.77702825,\n",
       "         -3.96767034,  -0.14157493,  -1.37916154,  -5.78877889,\n",
       "         -5.63793784,  -4.17634917,  -6.81975856,   1.42134211,\n",
       "          0.17107744,   0.9107248 ,  -1.60726382,   0.13978819,\n",
       "         -1.98187478,  -1.98924173,   0.86181549,   1.57944755,\n",
       "          2.99663053,   3.92322732,  -0.21326662],\n",
       "       [ -2.45584527,  -7.05892266,  -5.03992125,  -8.38497987,\n",
       "         -4.33870061,  -5.52956084,  -6.80868452,  -4.49784407,\n",
       "         -4.13102488,  -2.56776006,  -3.90853102,  -3.49805449,\n",
       "          0.13421263,  -2.41806267,  -2.32778194,   1.83430934,\n",
       "          1.1476036 ,  -0.63211651,   0.49873169,   1.38264093,\n",
       "          1.25695471,  -0.00802871,   3.62877714,   0.79445869,\n",
       "          0.4506374 ,   1.23464188,  -0.31716055,  -0.13866267,\n",
       "         -2.17514202,  -0.00038518,  -1.4875931 ,  -1.62338862,\n",
       "         -3.1131273 ,  -0.46692728,  -3.25342637,  -4.92155324,\n",
       "         -6.92807549,  -7.3054383 ,  -5.92795141,  -4.06851849,\n",
       "         -1.03720466,   1.00953122,  -2.42861779,  -3.64462729,\n",
       "         -1.70237895,  -4.21710163,  -4.06186426,  -2.07923528,\n",
       "         -2.03657602,  -0.79725398,   0.78281784,  -0.38909156,\n",
       "         -0.97429886,  -3.41281643,  -2.13530244,  -1.80439748,\n",
       "         -3.29366519,  -3.53958877,  -0.55155149,  -1.76244282,\n",
       "         -0.96409393,  -2.64634346,  -2.02786385,  -1.41727284,\n",
       "         -0.41074498,  -0.18371066,  -1.66710742,   2.00602737,\n",
       "         -2.63397695,   1.33162036,   2.42414663,   2.71182691,\n",
       "          3.97660526,   3.05235187,  -1.03959607,  -1.86214655,\n",
       "         -1.55491728,   1.75912074,  -1.87000532,  -0.39569765,\n",
       "         -1.0175249 ,  -0.09959796,   2.81459768,   0.77178531,\n",
       "          0.53616016,   0.80988254,   0.04260964,  -1.45580347,\n",
       "         -1.18631979,  -3.03372064,  -1.34274671,  -3.41225072,\n",
       "         -3.63368882,  -4.15535372,  -3.52400079,  -2.84917869,\n",
       "         -3.10433665,  -4.27114552,  -2.89195143,  -1.58929872,\n",
       "         -3.50960648,   0.05222006,   0.54340747,   0.25416573,\n",
       "          5.50287666,   3.01288318,   1.10031   ,  -1.61873145,\n",
       "         -3.28154661,  -0.72326043,  -3.23707547,  -4.23878011,\n",
       "         -8.71678096,  -4.28144409,  -3.95374742,  -3.85273746,\n",
       "         -1.41341545,  -0.11535755,  -0.50497616,  -2.43513297,\n",
       "         -6.32799347,  -3.71072201,  -2.16496577,  -3.18957725,\n",
       "          0.6999776 ,  -1.81783725,  -0.30383153,  -1.84522602,\n",
       "         -2.26038217,  -3.38506175,  -4.05704255,  -1.98762689,\n",
       "         -2.19882825,  -2.1231724 ,  -3.06868818,  -4.54517303,\n",
       "         -4.48184724,  -3.99535163,  -5.08921738,  -8.48770138,\n",
       "         -7.42775392,  -5.82936225,  -4.7829777 ,  -1.85343437,\n",
       "          0.25964312,   1.51237034,   1.22447369,   2.82059164,\n",
       "         -0.46525075,   1.85378738,   1.90968979,  -1.20323971,\n",
       "         -2.82970538,  -4.71788572,  -4.17793098,  -0.13063506,\n",
       "          0.72664029,   3.50483737,  -2.187578  ,  -3.65789998,\n",
       "         -4.83190322,  -2.93414023,  -0.71047343,   0.02630636,\n",
       "         -3.8766517 ,  -7.92458279,  -9.72275048,  -8.12586811,\n",
       "         -7.55243873,  -4.91131367,  -3.83493464,  -4.93734248,\n",
       "         -3.83081583,  -4.49768778,  -1.95205653,  -3.31239909,\n",
       "          0.18639163,   0.15915091,   0.74265471,   0.50679935,\n",
       "         -3.51347034,  -6.59485002,  -2.73373679,  -5.67128208,\n",
       "         -4.99304253,  -1.29156266,   0.06571693,   0.40550744,\n",
       "          0.84438892,   0.0178543 ,   0.01908501,   0.30361689,\n",
       "         -0.89102215,  -2.6193523 ,  -0.24742022,  -2.46008831,\n",
       "         -3.65015116,   0.12946429,   0.67723357,   2.50729261,\n",
       "         -0.88577296,  -2.38949047,  -5.10492679,  -2.29407147,\n",
       "         -6.23269752,  -7.20673399,  -4.99524889,  -4.3127652 ,\n",
       "         -2.15956163,  -5.26759209,  -4.50242455,  -2.88500055,\n",
       "         -4.58783766,  -1.80573509,  -4.07913279,  -5.82636791,\n",
       "         -1.96798226,   0.29887463,   1.61040191,  -2.27987769,\n",
       "         -3.24490307,  -3.96553044,  -5.61076038,  -4.48482761,\n",
       "         -5.6734993 ,  -4.74666635,  -3.26365918,   1.99064557,\n",
       "          1.5571338 ,   0.63403095,  -1.27518219,  -1.89273236,\n",
       "         -4.42387258,  -1.38601996,  -2.66212926,   0.00482701,\n",
       "         -1.91829724,  -1.85458617,  -2.6369162 ,  -2.9692382 ,\n",
       "         -3.82316822,  -2.84698027,  -2.99922603,  -1.38437809,\n",
       "         -2.46485328,  -3.83712566,  -3.27823774,  -4.25640426,\n",
       "         -2.65390897,  -4.04491971,  -0.98109814,  -2.78228984,\n",
       "         -2.77608984,  -4.97742493,  -3.00338371,  -2.36445678,\n",
       "         -2.42678323,  -2.2440083 ,  -4.02255304,  -7.46887888,\n",
       "         -6.68341699,  -9.2965074 ,  -8.43648143,  -5.9186873 ,\n",
       "         -2.67536122,  -4.01534724,  -1.91881039,  -2.38890324,\n",
       "         -3.92031138,  -0.37093956,  -0.73191571,  -0.75824888,\n",
       "         -1.91965041,  -0.38133517,  -3.13944136,  -2.01846838,\n",
       "         -1.85615092,  -1.81132224,  -2.88107969,  -1.30246424,\n",
       "         -0.45005208,   3.53564519,   1.30889037]])"
      ]
     },
     "execution_count": 57,
     "metadata": {},
     "output_type": "execute_result"
    }
   ],
   "source": [
    "S"
   ]
  },
  {
   "cell_type": "code",
   "execution_count": null,
   "id": "f350c513",
   "metadata": {},
   "outputs": [],
   "source": []
  }
 ],
 "metadata": {
  "kernelspec": {
   "display_name": "Python 3 (ipykernel)",
   "language": "python",
   "name": "python3"
  },
  "language_info": {
   "codemirror_mode": {
    "name": "ipython",
    "version": 3
   },
   "file_extension": ".py",
   "mimetype": "text/x-python",
   "name": "python",
   "nbconvert_exporter": "python",
   "pygments_lexer": "ipython3",
   "version": "3.9.12"
  }
 },
 "nbformat": 4,
 "nbformat_minor": 5
}
