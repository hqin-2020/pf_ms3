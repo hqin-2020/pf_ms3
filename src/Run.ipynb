{
 "cells": [
  {
   "cell_type": "code",
   "execution_count": 1,
   "id": "ea378152",
   "metadata": {},
   "outputs": [],
   "source": [
    "import numpy as np\n",
    "import scipy as sp\n",
    "import pandas as pd\n",
    "import matplotlib.pyplot as plt\n",
    "import seaborn as sns\n",
    "import time\n",
    "from tqdm import tqdm\n",
    "import multiprocessing\n",
    "import pickle\n",
    "import os\n",
    "\n",
    "workdir = os.path.dirname(os.getcwd())\n",
    "srcdir = os.getcwd()\n",
    "datadir = workdir + '/data/'\n",
    "outputdir = workdir + '/output/'\n",
    "    \n",
    "from PF_no_para_update import *\n",
    "N = 10_000\n",
    "seed = 0\n",
    "obs_series = pd.read_csv(datadir + 'data.csv', delimiter=',',header = None)\n",
    "obs_series = np.array(obs_series)\n",
    "T = obs_series.shape[1]\n",
    "\n",
    "case = 'actual data, seed = ' + str(seed) + ', T = ' + str(T) + ', N = ' + str(N)\n",
    "try: \n",
    "    casedir = outputdir + case  + '/'\n",
    "    os.mkdir(casedir)\n",
    "except:\n",
    "    casedir = outputdir + case  + '/'"
   ]
  },
  {
   "cell_type": "code",
   "execution_count": 2,
   "id": "ed35e770",
   "metadata": {},
   "outputs": [
    {
     "name": "stderr",
     "output_type": "stream",
     "text": [
      "100%|█████████████████████████████████████████████████████████████████████████████████████████████████████████████████████████████████████████████████████████████████████████████████████████████████████████████████████████████████| 10000/10000 [00:03<00:00, 3255.45it/s]\n",
      "100%|███████████████████████████████████████████████████████████████████████████████████████████████████████████████████████████████████████████████████████████████████████████████████████████████████████████████████████████████████████| 282/282 [17:51<00:00,  3.80s/it]\n"
     ]
    }
   ],
   "source": [
    "D_0 = obs_series[:,[0]]\n",
    "Input_0 = [[D_0, seed+i] for i in range(N)]\n",
    "pool = multiprocessing.Pool()\n",
    "X_t_particle = pool.map(init, tqdm(Input_0))\n",
    "del(Input_0)\n",
    "with open(casedir + 'X_0.pkl', 'wb') as f:\n",
    "    pickle.dump(X_t_particle, f)\n",
    "\n",
    "for t in tqdm(range(T-1)):\n",
    "    D_t_next = obs_series[:,[t+1]]\n",
    "    Input = [[D_t_next, X_t_particle[i], seed+t+i] for i in range(N)]\n",
    "    del(D_t_next)\n",
    "    del(X_t_particle)\n",
    "    pool = multiprocessing.Pool()\n",
    "    Output = pool.map(recursive, Input)\n",
    "    del(Input)\n",
    "    X_t_next_particle = [i[0] for i in Output]\n",
    "    ν_t_next_particle = [i[1] for i in Output]   \n",
    "    del(Output) \n",
    "    with open(casedir + 'X_' + str(t+1) + '.pkl', 'wb') as f:\n",
    "        pickle.dump(X_t_next_particle, f)\n",
    "\n",
    "    w_t_next = ν_t_next_particle/np.sum(ν_t_next_particle)\n",
    "    del(ν_t_next_particle)\n",
    "\n",
    "    try:\n",
    "        count_all = sp.stats.multinomial.rvs(N, w_t_next)\n",
    "    except:\n",
    "        for i in range(w_t_next.shape[0]):\n",
    "            if w_t_next[i]>(np.sum(w_t_next[:-1]) - 1):\n",
    "                w_t_next[i] = w_t_next[i] - (np.sum(w_t_next[:-1]) - 1)\n",
    "                break\n",
    "        count_all = sp.stats.multinomial.rvs(N, w_t_next)\n",
    "\n",
    "    with open(casedir + 'w_' + str(t+1) + '.pkl', 'wb') as f:\n",
    "        pickle.dump(w_t_next, f)\n",
    "    del(w_t_next)\n",
    "    with open(casedir + 'count_' + str(t+1) + '.pkl', 'wb') as f:\n",
    "        pickle.dump(count_all, f)\n",
    "\n",
    "    X_t_particle = []       \n",
    "    for i in range(N):\n",
    "        if count_all[i] != 0:\n",
    "            for n in range(count_all[i]):\n",
    "                X_t_particle.append(X_t_next_particle[i])\n",
    "    del(count_all)        \n",
    "    del(X_t_next_particle)"
   ]
  },
  {
   "cell_type": "code",
   "execution_count": null,
   "id": "e9c4bde5",
   "metadata": {},
   "outputs": [],
   "source": []
  }
 ],
 "metadata": {
  "kernelspec": {
   "display_name": "Python 3 (ipykernel)",
   "language": "python",
   "name": "python3"
  },
  "language_info": {
   "codemirror_mode": {
    "name": "ipython",
    "version": 3
   },
   "file_extension": ".py",
   "mimetype": "text/x-python",
   "name": "python",
   "nbconvert_exporter": "python",
   "pygments_lexer": "ipython3",
   "version": "3.9.12"
  }
 },
 "nbformat": 4,
 "nbformat_minor": 5
}
