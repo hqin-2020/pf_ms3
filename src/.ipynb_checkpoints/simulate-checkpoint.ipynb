{
 "cells": [
  {
   "cell_type": "code",
   "execution_count": 8,
   "id": "03402f11",
   "metadata": {},
   "outputs": [],
   "source": [
    "import os\n",
    "import numpy as np\n",
    "import scipy as sp\n",
    "import seaborn as sns\n",
    "import pickle\n",
    "import pandas as pd\n",
    "import matplotlib.pyplot as plt\n",
    "from tqdm import tqdm\n",
    "sns.set()\n",
    "workdir = os.path.dirname(os.getcwd())\n",
    "datadir = workdir + '/data/'\n",
    "from simulation import *\n",
    "from PF_no_para_update import *\n",
    "with open(datadir + 'MLE_estimate.pkl', 'rb') as f:\n",
    "    MLE_estimate = pickle.load(f)"
   ]
  },
  {
   "cell_type": "code",
   "execution_count": 9,
   "id": "4bd1052f",
   "metadata": {},
   "outputs": [],
   "source": [
    "# λ, η, b11, b22, As11, As12, As13, As21, As22, As23, Aso2, As31, As32, As33, Aso3, Bs11, Bs21, Bs22, Bs31, Bs32, Bs33 = \\\n",
    "# MLE_estimate\n",
    "\n",
    "λ, η = 0.5, 0\n",
    "b11, b22 = 1, 0.5\n",
    "\n",
    "As11, As12, As13,      = 0.9, 0.0, 0.0\n",
    "As21, As22, As23, Aso2 = 0.0, 0.8, 0.0, 0\n",
    "As31, As32, As33, Aso3 = 0.0, 0.0, 0.7, 0\n",
    "\n",
    "Bs11, Bs21, Bs22, Bs31, Bs32, Bs33 = 4, 0, 3, 0, 0, 2\n",
    "\n",
    "Ass = np.array([[As11, As12, As13],\\\n",
    "                [As21, As22, As23],\\\n",
    "                [As31, As32, As33]])\n",
    "Aso = np.array([[0.0],\\\n",
    "                [Aso2],\\\n",
    "                [Aso3]])\n",
    "Bs =  np.array([[Bs11, 0,    0],\\\n",
    "                [Bs21, Bs22, 0],\\\n",
    "                [Bs31, Bs32, Bs33]])\n",
    "Azo = np.array([[0],[η]])\n",
    "Azz = np.array([[1, 1],[0, λ]])\n",
    "Bz = np.array([[b11, 0],[0, b22]])"
   ]
  },
  {
   "cell_type": "code",
   "execution_count": 10,
   "id": "a7c7725b",
   "metadata": {},
   "outputs": [],
   "source": [
    "θ = [Azo, Azz, Bz, Aso, Ass, Bs]\n",
    "data, Z, S = simulate(θ, T = 282)\n",
    "np.savetxt(datadir + \"data.csv\", data, delimiter=\",\")\n",
    "np.savetxt(datadir + \"Z.csv\", Z, delimiter=\",\")\n",
    "np.savetxt(datadir + \"S.csv\", S, delimiter=\",\")"
   ]
  },
  {
   "cell_type": "code",
   "execution_count": null,
   "id": "3714b75d",
   "metadata": {},
   "outputs": [],
   "source": []
  }
 ],
 "metadata": {
  "kernelspec": {
   "display_name": "Python 3 (ipykernel)",
   "language": "python",
   "name": "python3"
  },
  "language_info": {
   "codemirror_mode": {
    "name": "ipython",
    "version": 3
   },
   "file_extension": ".py",
   "mimetype": "text/x-python",
   "name": "python",
   "nbconvert_exporter": "python",
   "pygments_lexer": "ipython3",
   "version": "3.9.12"
  }
 },
 "nbformat": 4,
 "nbformat_minor": 5
}
